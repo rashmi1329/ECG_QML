{
  "cells": [
    {
      "cell_type": "markdown",
      "metadata": {
        "id": "view-in-github",
        "colab_type": "text"
      },
      "source": [
        "<a href=\"https://colab.research.google.com/github/rashmi1329/ECG_QML/blob/main/Untitled4.ipynb\" target=\"_parent\"><img src=\"https://colab.research.google.com/assets/colab-badge.svg\" alt=\"Open In Colab\"/></a>"
      ]
    },
    {
      "cell_type": "code",
      "execution_count": 5,
      "metadata": {
        "colab": {
          "base_uri": "https://localhost:8080/"
        },
        "id": "WP3DkArNqJHF",
        "outputId": "9270477d-fbd5-4db4-9867-8d6ff90a70d9"
      },
      "outputs": [
        {
          "output_type": "stream",
          "name": "stdout",
          "text": [
            "Drive already mounted at /content/drive; to attempt to forcibly remount, call drive.mount(\"/content/drive\", force_remount=True).\n",
            "content  notebooks\t       README.md  setup_01.ipynb\n",
            "data\t quantum_kernel.ipynb  results\n",
            "Requirement already satisfied: numpy in /usr/local/lib/python3.12/dist-packages (2.0.2)\n",
            "Requirement already satisfied: pandas in /usr/local/lib/python3.12/dist-packages (2.2.2)\n",
            "Requirement already satisfied: scikit-learn in /usr/local/lib/python3.12/dist-packages (1.6.1)\n",
            "Requirement already satisfied: python-dateutil>=2.8.2 in /usr/local/lib/python3.12/dist-packages (from pandas) (2.9.0.post0)\n",
            "Requirement already satisfied: pytz>=2020.1 in /usr/local/lib/python3.12/dist-packages (from pandas) (2025.2)\n",
            "Requirement already satisfied: tzdata>=2022.7 in /usr/local/lib/python3.12/dist-packages (from pandas) (2025.2)\n",
            "Requirement already satisfied: scipy>=1.6.0 in /usr/local/lib/python3.12/dist-packages (from scikit-learn) (1.16.2)\n",
            "Requirement already satisfied: joblib>=1.2.0 in /usr/local/lib/python3.12/dist-packages (from scikit-learn) (1.5.2)\n",
            "Requirement already satisfied: threadpoolctl>=3.1.0 in /usr/local/lib/python3.12/dist-packages (from scikit-learn) (3.6.0)\n",
            "Requirement already satisfied: six>=1.5 in /usr/local/lib/python3.12/dist-packages (from python-dateutil>=2.8.2->pandas) (1.17.0)\n",
            "Using 120 samples for QML\n",
            "✅ Saved X_qml.npy and y_qml.npy successfully!\n",
            "Scaled feature sample:\n",
            "[[2.07612847 0.92823393 0.6777026 ]\n",
            " [2.02995444 2.2006623  3.14159265]\n",
            " [2.20048943 1.29508726 0.6608835 ]\n",
            " [1.89115322 0.57427614 0.28832762]\n",
            " [2.12991673 1.38672319 0.50727493]]\n",
            "features.csv  features_with_rr.csv  X_qml.npy  y_qml.npy\n"
          ]
        }
      ],
      "source": [
        "from google.colab import drive\n",
        "drive.mount('/content/drive')\n",
        "!ls \"/content/drive/MyDrive/ECG_QML\"\n",
        "\n",
        "# === Step 4: Prepare Data for Quantum ML ===\n",
        "!pip install numpy pandas scikit-learn\n",
        "\n",
        "import os, numpy as np, pandas as pd\n",
        "from sklearn.preprocessing import StandardScaler, MinMaxScaler\n",
        "\n",
        "# 1. Load your dataset (use whichever file exists)\n",
        "df = pd.read_csv(\"/content/drive/MyDrive/ECG_QML/data/processed/features_with_rr.csv\").dropna()\n",
        "# If you only have features.csv, use:\n",
        "# df = pd.read_csv(\"data/processed/features.csv\").dropna()\n",
        "\n",
        "# 2. Choose the features you’ll feed to quantum model\n",
        "X = df[[\"mean_hr\", \"std_hr\", \"rmssd\"]].values\n",
        "y = df[\"RR\"].values\n",
        "\n",
        "# 3. Keep dataset small (quantum simulators are slow)\n",
        "N = min(200, len(X))\n",
        "X, y = X[:N], y[:N]\n",
        "print(f\"Using {len(X)} samples for QML\")\n",
        "\n",
        "# 4. Scale features\n",
        "std = StandardScaler().fit(X)\n",
        "X_std = std.transform(X)\n",
        "mm = MinMaxScaler((0, np.pi)).fit(X_std)\n",
        "X_scaled = mm.transform(X_std)\n",
        "\n",
        "\n",
        "np.save(\"/content/drive/MyDrive/ECG_QML/data/processed/X_qml.npy\", X_scaled)\n",
        "np.save(\"/content/drive/MyDrive/ECG_QML/data/processed/y_qml.npy\", y)\n",
        "\n",
        "print(\"✅ Saved X_qml.npy and y_qml.npy successfully!\")\n",
        "print(\"Scaled feature sample:\")\n",
        "print(X_scaled[:5])\n",
        "!ls \"/content/drive/MyDrive/ECG_QML/data/processed\"\n",
        "\n",
        "\n",
        "\n",
        "\n"
      ]
    }
  ],
  "metadata": {
    "colab": {
      "provenance": [],
      "authorship_tag": "ABX9TyNekKsIoCm36mipcwV4LGKZ",
      "include_colab_link": true
    },
    "kernelspec": {
      "display_name": "Python 3",
      "name": "python3"
    },
    "language_info": {
      "name": "python"
    }
  },
  "nbformat": 4,
  "nbformat_minor": 0
}